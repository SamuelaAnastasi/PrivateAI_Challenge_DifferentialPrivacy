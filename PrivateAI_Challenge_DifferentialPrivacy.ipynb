{
  "nbformat": 4,
  "nbformat_minor": 0,
  "metadata": {
    "colab": {
      "name": "PrivateAI_Challenge_DifferentialPrivacy.ipynb",
      "version": "0.3.2",
      "provenance": []
    },
    "kernelspec": {
      "name": "python3",
      "display_name": "Python 3"
    }
  },
  "cells": [
    {
      "cell_type": "markdown",
      "metadata": {
        "id": "CsImVwCTOLgF",
        "colab_type": "text"
      },
      "source": [
        "#Project 2: Generate Parallel Databases\n",
        "\n",
        "Create a list of every parallel database to the one currently contained in the \"db\" variable. Create a function which both:\n",
        "\n",
        "* creates the initial database (db) \n",
        "* creates all parallel databases"
      ]
    },
    {
      "cell_type": "code",
      "metadata": {
        "id": "O54Z7yHaSCLY",
        "colab_type": "code",
        "colab": {}
      },
      "source": [
        "import torch"
      ],
      "execution_count": 0,
      "outputs": []
    },
    {
      "cell_type": "code",
      "metadata": {
        "id": "FFMCcVdKLhBT",
        "colab_type": "code",
        "colab": {}
      },
      "source": [
        "def create_parallel_db(db, index):\n",
        "\n",
        "    return torch.cat((db[0:index], \n",
        "                      db[index+1:]))"
      ],
      "execution_count": 0,
      "outputs": []
    },
    {
      "cell_type": "code",
      "metadata": {
        "id": "6AXbb7ojR38w",
        "colab_type": "code",
        "outputId": "78b1946c-dc6f-44f4-8c8f-73d461e20d56",
        "colab": {
          "base_uri": "https://localhost:8080/",
          "height": 34
        }
      },
      "source": [
        "num_els = 5000\n",
        "db = torch.rand(num_els) > 0.5\n",
        "db"
      ],
      "execution_count": 4,
      "outputs": [
        {
          "output_type": "execute_result",
          "data": {
            "text/plain": [
              "tensor([0, 0, 1,  ..., 1, 1, 0], dtype=torch.uint8)"
            ]
          },
          "metadata": {
            "tags": []
          },
          "execution_count": 4
        }
      ]
    },
    {
      "cell_type": "code",
      "metadata": {
        "id": "H80r2z1xRtro",
        "colab_type": "code",
        "outputId": "ae2d723c-eb92-4fb2-98d2-da183beb7773",
        "colab": {
          "base_uri": "https://localhost:8080/",
          "height": 34
        }
      },
      "source": [
        "create_parallel_db(db, 47)"
      ],
      "execution_count": 5,
      "outputs": [
        {
          "output_type": "execute_result",
          "data": {
            "text/plain": [
              "tensor([0, 0, 1,  ..., 1, 1, 0], dtype=torch.uint8)"
            ]
          },
          "metadata": {
            "tags": []
          },
          "execution_count": 5
        }
      ]
    },
    {
      "cell_type": "code",
      "metadata": {
        "id": "dpnpSKEHSpLQ",
        "colab_type": "code",
        "colab": {}
      },
      "source": [
        "def create_parallel_dbs(db):\n",
        "\n",
        "    parallel_dbs = list()\n",
        "\n",
        "    for i in range(len(db)):\n",
        "        pdb = create_parallel_db(db, i)\n",
        "        parallel_dbs.append(pdb)\n",
        "    \n",
        "    return parallel_dbs"
      ],
      "execution_count": 0,
      "outputs": []
    },
    {
      "cell_type": "code",
      "metadata": {
        "id": "vB4VvxUfS0_n",
        "colab_type": "code",
        "colab": {}
      },
      "source": [
        "pdbs = create_parallel_dbs(db)"
      ],
      "execution_count": 0,
      "outputs": []
    },
    {
      "cell_type": "code",
      "metadata": {
        "id": "_nZ4LSXfTLre",
        "colab_type": "code",
        "colab": {}
      },
      "source": [
        "def create_db_and_parallel_dbs(num_els):\n",
        "    \n",
        "    db = torch.rand(num_els) > 0.5\n",
        "    pdbs = create_parallel_dbs(db)\n",
        "    \n",
        "    return db, pdbs"
      ],
      "execution_count": 0,
      "outputs": []
    },
    {
      "cell_type": "code",
      "metadata": {
        "id": "JG2hntsuTnN-",
        "colab_type": "code",
        "colab": {}
      },
      "source": [
        "db, pdbs = create_db_and_parallel_dbs(40)"
      ],
      "execution_count": 0,
      "outputs": []
    },
    {
      "cell_type": "markdown",
      "metadata": {
        "id": "sP1a_ZRKUACM",
        "colab_type": "text"
      },
      "source": [
        "## Evaluate The Differential Privacy of a Function\n",
        "Evaluate how much privacy is leaked by measuring the maximum amount the query changes when someone is removed (maximum over all possible people who could be removed). Measure the sensitivity of sum() function"
      ]
    },
    {
      "cell_type": "code",
      "metadata": {
        "id": "AxcbTdHNUw9u",
        "colab_type": "code",
        "colab": {}
      },
      "source": [
        "db, pdbs = create_db_and_parallel_dbs(5000)"
      ],
      "execution_count": 0,
      "outputs": []
    },
    {
      "cell_type": "code",
      "metadata": {
        "id": "ky8Ov5tLWmsp",
        "colab_type": "code",
        "colab": {}
      },
      "source": [
        "def query_sum(db):\n",
        "    return db.sum()"
      ],
      "execution_count": 0,
      "outputs": []
    },
    {
      "cell_type": "code",
      "metadata": {
        "id": "aPP4mfrSWxgI",
        "colab_type": "code",
        "colab": {}
      },
      "source": [
        "entire_db_result = query_sum(db)"
      ],
      "execution_count": 0,
      "outputs": []
    },
    {
      "cell_type": "code",
      "metadata": {
        "id": "wCRuuWluXH0X",
        "colab_type": "code",
        "colab": {}
      },
      "source": [
        "query_sensitivity = 0\n",
        "for pdb in pdbs:\n",
        "    pdb_result = query_sum(pdb)\n",
        "    \n",
        "    db_difference = torch.abs(pdb_result - entire_db_result)\n",
        "    \n",
        "    if(db_difference > query_sensitivity):\n",
        "        query_sensitivity = db_difference"
      ],
      "execution_count": 0,
      "outputs": []
    },
    {
      "cell_type": "code",
      "metadata": {
        "id": "e232UR8_XrLu",
        "colab_type": "code",
        "outputId": "7c44b3b3-30fa-4a5e-97c5-ecbcf5f4c6bb",
        "colab": {
          "base_uri": "https://localhost:8080/",
          "height": 34
        }
      },
      "source": [
        "query_sensitivity"
      ],
      "execution_count": 14,
      "outputs": [
        {
          "output_type": "execute_result",
          "data": {
            "text/plain": [
              "tensor(1)"
            ]
          },
          "metadata": {
            "tags": []
          },
          "execution_count": 14
        }
      ]
    },
    {
      "cell_type": "markdown",
      "metadata": {
        "id": "FfTvKEPUbOsv",
        "colab_type": "text"
      },
      "source": [
        "#Project 3 - Evaluate the Privacy of a Function\n",
        "Implement function to compute the \"sensitivity\"of the mean() function we use for the query when measuring the difference between each parallel db's query result and the query result for the entire database (max value)."
      ]
    },
    {
      "cell_type": "code",
      "metadata": {
        "id": "_TW6VEQtc_RQ",
        "colab_type": "code",
        "colab": {}
      },
      "source": [
        "def query_mean(db):\n",
        "    return db.float().mean()"
      ],
      "execution_count": 0,
      "outputs": []
    },
    {
      "cell_type": "code",
      "metadata": {
        "id": "l0v0o-BxbRi0",
        "colab_type": "code",
        "colab": {}
      },
      "source": [
        "def f_sensitivity(f, n_els=1000):\n",
        "\n",
        "    db, pdbs = create_db_and_parallel_dbs(n_els)\n",
        "    \n",
        "    entire_db_result = f(db)\n",
        "    \n",
        "    max_difference = 0\n",
        "    for pdb in pdbs:\n",
        "        pdb_result = f(pdb)\n",
        "\n",
        "        db_difference = torch.abs(pdb_result - entire_db_result)\n",
        "\n",
        "        if(db_difference > max_difference):\n",
        "            max_difference = db_difference\n",
        "            \n",
        "    return max_difference"
      ],
      "execution_count": 0,
      "outputs": []
    },
    {
      "cell_type": "code",
      "metadata": {
        "id": "PZW9VbANeFS3",
        "colab_type": "code",
        "outputId": "eadb0449-1900-428b-9e52-8b6fa5ac0d91",
        "colab": {
          "base_uri": "https://localhost:8080/",
          "height": 34
        }
      },
      "source": [
        "f_sensitivity(query_mean)"
      ],
      "execution_count": 17,
      "outputs": [
        {
          "output_type": "execute_result",
          "data": {
            "text/plain": [
              "tensor(0.0005)"
            ]
          },
          "metadata": {
            "tags": []
          },
          "execution_count": 17
        }
      ]
    },
    {
      "cell_type": "code",
      "metadata": {
        "id": "jQD3y8h2efNX",
        "colab_type": "code",
        "colab": {}
      },
      "source": [
        "db, pdbs = create_db_and_parallel_dbs(20)"
      ],
      "execution_count": 0,
      "outputs": []
    },
    {
      "cell_type": "code",
      "metadata": {
        "id": "QRbrJUQ0el7m",
        "colab_type": "code",
        "outputId": "1639c646-f245-4671-a5c1-c9bcc8f813b1",
        "colab": {
          "base_uri": "https://localhost:8080/",
          "height": 50
        }
      },
      "source": [
        "db"
      ],
      "execution_count": 19,
      "outputs": [
        {
          "output_type": "execute_result",
          "data": {
            "text/plain": [
              "tensor([0, 0, 0, 1, 0, 0, 0, 0, 0, 0, 1, 0, 0, 0, 1, 1, 1, 0, 1, 0],\n",
              "       dtype=torch.uint8)"
            ]
          },
          "metadata": {
            "tags": []
          },
          "execution_count": 19
        }
      ]
    },
    {
      "cell_type": "markdown",
      "metadata": {
        "id": "fTRZb3dafsxY",
        "colab_type": "text"
      },
      "source": [
        "#Project: Calculate L1 Sensitivity For Threshold\n",
        "Define function which calculates the sensitivty for a \"threshold\"  by computing the sum over the databases and return whether that sum is greater than a certain threshold"
      ]
    },
    {
      "cell_type": "code",
      "metadata": {
        "id": "BkvU_SragsZE",
        "colab_type": "code",
        "colab": {}
      },
      "source": [
        "def query_sum_threshold(db, threshold=5):\n",
        "    return (db.sum() > threshold).float()"
      ],
      "execution_count": 0,
      "outputs": []
    },
    {
      "cell_type": "code",
      "metadata": {
        "id": "fGR6eZA9hDI8",
        "colab_type": "code",
        "outputId": "13af9f50-717b-4c31-9e92-26e6a7bcae74",
        "colab": {
          "base_uri": "https://localhost:8080/",
          "height": 0
        }
      },
      "source": [
        "for i in range(10):\n",
        "    sens_f = f_sensitivity(query_sum_threshold, n_els=10)\n",
        "    print(sens_f)"
      ],
      "execution_count": 21,
      "outputs": [
        {
          "output_type": "stream",
          "text": [
            "0\n",
            "tensor(1.)\n",
            "0\n",
            "tensor(1.)\n",
            "0\n",
            "tensor(1.)\n",
            "tensor(1.)\n",
            "0\n",
            "tensor(1.)\n",
            "0\n"
          ],
          "name": "stdout"
        }
      ]
    },
    {
      "cell_type": "markdown",
      "metadata": {
        "id": "SFpCYsel1z2E",
        "colab_type": "text"
      },
      "source": [
        "#Project: Perform a Differencing Attack on Row 10\n",
        "Create a database and then two different sum queries to expose the value of the person represented by row 10 in the database"
      ]
    },
    {
      "cell_type": "code",
      "metadata": {
        "id": "I9eeTDKR2K-F",
        "colab_type": "code",
        "colab": {}
      },
      "source": [
        "db, _ = create_db_and_parallel_dbs(100)"
      ],
      "execution_count": 0,
      "outputs": []
    },
    {
      "cell_type": "code",
      "metadata": {
        "id": "hMd5r6S42g66",
        "colab_type": "code",
        "colab": {}
      },
      "source": [
        "pdb = create_parallel_db(db, index=10)"
      ],
      "execution_count": 0,
      "outputs": []
    },
    {
      "cell_type": "code",
      "metadata": {
        "id": "VG5vUmR624bJ",
        "colab_type": "code",
        "outputId": "b14ff23e-863b-4279-9acc-5c1d497fcd10",
        "colab": {
          "base_uri": "https://localhost:8080/",
          "height": 0
        }
      },
      "source": [
        "db[10]"
      ],
      "execution_count": 24,
      "outputs": [
        {
          "output_type": "execute_result",
          "data": {
            "text/plain": [
              "tensor(0, dtype=torch.uint8)"
            ]
          },
          "metadata": {
            "tags": []
          },
          "execution_count": 24
        }
      ]
    },
    {
      "cell_type": "code",
      "metadata": {
        "id": "GDcSTvbq3w54",
        "colab_type": "code",
        "outputId": "b61f7ab3-7804-45a5-edb8-4e8f2a5a827c",
        "colab": {
          "base_uri": "https://localhost:8080/",
          "height": 0
        }
      },
      "source": [
        "sum(db)"
      ],
      "execution_count": 25,
      "outputs": [
        {
          "output_type": "execute_result",
          "data": {
            "text/plain": [
              "tensor(46, dtype=torch.uint8)"
            ]
          },
          "metadata": {
            "tags": []
          },
          "execution_count": 25
        }
      ]
    },
    {
      "cell_type": "code",
      "metadata": {
        "id": "X0zf23on34kg",
        "colab_type": "code",
        "outputId": "58c90cee-6143-48ef-cfb1-e8be617f11da",
        "colab": {
          "base_uri": "https://localhost:8080/",
          "height": 0
        }
      },
      "source": [
        "# Differencing attack using sum()\n",
        "\n",
        "sum(db) - sum(pdb)"
      ],
      "execution_count": 26,
      "outputs": [
        {
          "output_type": "execute_result",
          "data": {
            "text/plain": [
              "tensor(0, dtype=torch.uint8)"
            ]
          },
          "metadata": {
            "tags": []
          },
          "execution_count": 26
        }
      ]
    },
    {
      "cell_type": "code",
      "metadata": {
        "id": "2t5iY-ZH4G8I",
        "colab_type": "code",
        "outputId": "e87dcacc-7e2b-441c-8af8-c693af5c967b",
        "colab": {
          "base_uri": "https://localhost:8080/",
          "height": 0
        }
      },
      "source": [
        "# Differencing attack using mean()\n",
        "\n",
        "(sum(db).float() / len(db)) -  (sum(pdb).float() / len(pdb))"
      ],
      "execution_count": 27,
      "outputs": [
        {
          "output_type": "execute_result",
          "data": {
            "text/plain": [
              "tensor(-0.0046)"
            ]
          },
          "metadata": {
            "tags": []
          },
          "execution_count": 27
        }
      ]
    },
    {
      "cell_type": "code",
      "metadata": {
        "id": "zyMF5gV35GBf",
        "colab_type": "code",
        "outputId": "96558782-52cb-4548-9525-23f66146bfa5",
        "colab": {
          "base_uri": "https://localhost:8080/",
          "height": 0
        }
      },
      "source": [
        "# Differencing attack using sum() and threshold\n",
        "\n",
        "(sum(db).float() > 49) - (sum(pdb).float()  > 49)"
      ],
      "execution_count": 28,
      "outputs": [
        {
          "output_type": "execute_result",
          "data": {
            "text/plain": [
              "tensor(0, dtype=torch.uint8)"
            ]
          },
          "metadata": {
            "tags": []
          },
          "execution_count": 28
        }
      ]
    },
    {
      "cell_type": "markdown",
      "metadata": {
        "id": "bO_-JhcMx1zP",
        "colab_type": "text"
      },
      "source": [
        "#Project: Local Differential Privacy\n",
        "Create function that will flip a virtual coin twice and randomize data points based on the result. Call this function with incemental databases."
      ]
    },
    {
      "cell_type": "code",
      "metadata": {
        "id": "scGbXgb5xzIT",
        "colab_type": "code",
        "colab": {}
      },
      "source": [
        "def query_local_noise(db):\n",
        "  \n",
        "  without_noise_result = torch.mean(db.float())\n",
        "    \n",
        "  first_coin_flip = (torch.rand(len(db)) > 0.5).float()\n",
        "    \n",
        "  second_coin_flip = (torch.rand(len(db)) > 0.5).float()\n",
        "\n",
        "  randomized_db = db.float() * first_coin_flip + (1 - first_coin_flip) * second_coin_flip\n",
        "\n",
        "  with_noise_result = torch.mean(randomized_db.float()) * 2 - 0.5\n",
        "    \n",
        "  return with_noise_result, without_noise_result\n",
        "  "
      ],
      "execution_count": 0,
      "outputs": []
    },
    {
      "cell_type": "code",
      "metadata": {
        "id": "oQOGb0244Dcg",
        "colab_type": "code",
        "outputId": "754dafce-4c7b-450d-cf5e-be0dacc813b0",
        "colab": {
          "base_uri": "https://localhost:8080/",
          "height": 0
        }
      },
      "source": [
        "# db size 10\n",
        "db, pdbs = create_db_and_parallel_dbs(10)\n",
        "with_noise_result, without_noise_result = query_local_noise(db)\n",
        "print(\"With Noise:\" + str(with_noise_result))\n",
        "print(\"Without Noise:\" + str(without_noise_result))"
      ],
      "execution_count": 30,
      "outputs": [
        {
          "output_type": "stream",
          "text": [
            "With Noise:tensor(0.1000)\n",
            "Without Noise:tensor(0.5000)\n"
          ],
          "name": "stdout"
        }
      ]
    },
    {
      "cell_type": "code",
      "metadata": {
        "id": "XXXTcBt-4pLh",
        "colab_type": "code",
        "outputId": "def8f401-b5b6-40fd-8632-12ea68328efd",
        "colab": {
          "base_uri": "https://localhost:8080/",
          "height": 0
        }
      },
      "source": [
        "# db size 100\n",
        "db, pdbs = create_db_and_parallel_dbs(100)\n",
        "with_noise_result, without_noise_result = query_local_noise(db)\n",
        "print(\"With Noise:\" + str(with_noise_result))\n",
        "print(\"Without Noise:\" + str(without_noise_result))"
      ],
      "execution_count": 31,
      "outputs": [
        {
          "output_type": "stream",
          "text": [
            "With Noise:tensor(0.3800)\n",
            "Without Noise:tensor(0.4100)\n"
          ],
          "name": "stdout"
        }
      ]
    },
    {
      "cell_type": "code",
      "metadata": {
        "id": "uNHWhHud6EB2",
        "colab_type": "code",
        "outputId": "75ad5df8-03b0-4e64-f059-e7cef96c9384",
        "colab": {
          "base_uri": "https://localhost:8080/",
          "height": 0
        }
      },
      "source": [
        "# db size 1000\n",
        "db, pdbs = create_db_and_parallel_dbs(1000)\n",
        "with_noise_result, without_noise_result = query_local_noise(db)\n",
        "print(\"With Noise:\" + str(with_noise_result))\n",
        "print(\"Without Noise:\" + str(without_noise_result))"
      ],
      "execution_count": 32,
      "outputs": [
        {
          "output_type": "stream",
          "text": [
            "With Noise:tensor(0.5280)\n",
            "Without Noise:tensor(0.5310)\n"
          ],
          "name": "stdout"
        }
      ]
    },
    {
      "cell_type": "code",
      "metadata": {
        "id": "983jMbvX6Kdt",
        "colab_type": "code",
        "outputId": "57baba93-8dc7-408d-dbcf-f17964e95f40",
        "colab": {
          "base_uri": "https://localhost:8080/",
          "height": 0
        }
      },
      "source": [
        "# db size 10000\n",
        "db, pdbs = create_db_and_parallel_dbs(10000)\n",
        "with_noise_result, without_noise_result = query_local_noise(db)\n",
        "print(\"With Noise:\" + str(with_noise_result))\n",
        "print(\"Without Noise:\" + str(without_noise_result))"
      ],
      "execution_count": 33,
      "outputs": [
        {
          "output_type": "stream",
          "text": [
            "With Noise:tensor(0.5000)\n",
            "Without Noise:tensor(0.4936)\n"
          ],
          "name": "stdout"
        }
      ]
    },
    {
      "cell_type": "markdown",
      "metadata": {
        "id": "H5g1dT3qGN-P",
        "colab_type": "text"
      },
      "source": [
        "#Project: Varying Amounts of Noise\n",
        "Define function which takes noise arg to allow for varying amounts of randomness to be added to database i.e.The first coin flip will have varying probabilities of being 1 or 0. Experiment with different values of noise"
      ]
    },
    {
      "cell_type": "code",
      "metadata": {
        "id": "zarwlaMuGNDt",
        "colab_type": "code",
        "colab": {}
      },
      "source": [
        "def query_varying_noise(db, noise=0.2):\n",
        "    \n",
        "    without_noise_result = torch.mean(db.float())\n",
        "\n",
        "    first_coin_flip = (torch.rand(len(db)) < noise).float()\n",
        "    \n",
        "    second_coin_flip = (torch.rand(len(db)) > 0.5).float()\n",
        "\n",
        "    randomized_db = db.float() * first_coin_flip + (1 - first_coin_flip) * second_coin_flip\n",
        "\n",
        "    skewed_result = randomized_db.float().mean()\n",
        "\n",
        "    with_noise_result = ((skewed_result / noise) - 0.5) * noise / (1 - noise)\n",
        "\n",
        "    return with_noise_result, without_noise_result"
      ],
      "execution_count": 0,
      "outputs": []
    },
    {
      "cell_type": "code",
      "metadata": {
        "id": "V1Gzd8JkKJgr",
        "colab_type": "code",
        "outputId": "5abb1d35-261f-4784-cf33-e306a33c57e2",
        "colab": {
          "base_uri": "https://localhost:8080/",
          "height": 50
        }
      },
      "source": [
        "# noise value 0.1 - db size 100\n",
        "db, pdbs = create_db_and_parallel_dbs(100)\n",
        "with_noise_result, without_noise_result = query_varying_noise(db, noise=0.1)\n",
        "print(\"With Noise:\" + str(with_noise_result))\n",
        "print(\"Without Noise:\" + str(without_noise_result))"
      ],
      "execution_count": 35,
      "outputs": [
        {
          "output_type": "stream",
          "text": [
            "With Noise:tensor(0.5667)\n",
            "Without Noise:tensor(0.4900)\n"
          ],
          "name": "stdout"
        }
      ]
    },
    {
      "cell_type": "code",
      "metadata": {
        "id": "dchgIAYOK21i",
        "colab_type": "code",
        "outputId": "110eff3f-036c-44a5-b772-de2e0aa157b6",
        "colab": {
          "base_uri": "https://localhost:8080/",
          "height": 50
        }
      },
      "source": [
        "# noise value 0.2 - db size 100\n",
        "db, pdbs = create_db_and_parallel_dbs(100)\n",
        "with_noise_result, without_noise_result = query_varying_noise(db, noise=0.2)\n",
        "print(\"With Noise:\" + str(with_noise_result))\n",
        "print(\"Without Noise:\" + str(without_noise_result))"
      ],
      "execution_count": 36,
      "outputs": [
        {
          "output_type": "stream",
          "text": [
            "With Noise:tensor(0.5625)\n",
            "Without Noise:tensor(0.5100)\n"
          ],
          "name": "stdout"
        }
      ]
    },
    {
      "cell_type": "code",
      "metadata": {
        "id": "SWiOnIESK9F0",
        "colab_type": "code",
        "outputId": "9a1abebb-e919-4b0c-a9cf-99a1b1109a64",
        "colab": {
          "base_uri": "https://localhost:8080/",
          "height": 50
        }
      },
      "source": [
        "# noise value 0.4 - db size 100\n",
        "db, pdbs = create_db_and_parallel_dbs(100)\n",
        "with_noise_result, without_noise_result = query_varying_noise(db, noise=0.4)\n",
        "print(\"With Noise:\" + str(with_noise_result))\n",
        "print(\"Without Noise:\" + str(without_noise_result))"
      ],
      "execution_count": 37,
      "outputs": [
        {
          "output_type": "stream",
          "text": [
            "With Noise:tensor(0.4167)\n",
            "Without Noise:tensor(0.5700)\n"
          ],
          "name": "stdout"
        }
      ]
    },
    {
      "cell_type": "code",
      "metadata": {
        "id": "CuAn7SNhLG9g",
        "colab_type": "code",
        "outputId": "79ab808c-01f3-4d8e-a537-d4500c983fbf",
        "colab": {
          "base_uri": "https://localhost:8080/",
          "height": 50
        }
      },
      "source": [
        "# noise value 0.8 - db size 100\n",
        "db, pdbs = create_db_and_parallel_dbs(100)\n",
        "with_noise_result, without_noise_result = query_varying_noise(db, noise=0.8)\n",
        "print(\"With Noise:\" + str(with_noise_result))\n",
        "print(\"Without Noise:\" + str(without_noise_result))"
      ],
      "execution_count": 38,
      "outputs": [
        {
          "output_type": "stream",
          "text": [
            "With Noise:tensor(0.0500)\n",
            "Without Noise:tensor(0.4100)\n"
          ],
          "name": "stdout"
        }
      ]
    },
    {
      "cell_type": "code",
      "metadata": {
        "id": "7WzPQHWoLjb8",
        "colab_type": "code",
        "outputId": "3f4c2c7d-8831-4a73-ce99-66fb45a9d4be",
        "colab": {
          "base_uri": "https://localhost:8080/",
          "height": 50
        }
      },
      "source": [
        "# noise value 0.1 - db size 10000\n",
        "db, pdbs = create_db_and_parallel_dbs(10000)\n",
        "with_noise_result, without_noise_result = query_varying_noise(db, noise=0.1)\n",
        "print(\"With Noise:\" + str(with_noise_result))\n",
        "print(\"Without Noise:\" + str(without_noise_result))"
      ],
      "execution_count": 39,
      "outputs": [
        {
          "output_type": "stream",
          "text": [
            "With Noise:tensor(0.5004)\n",
            "Without Noise:tensor(0.4953)\n"
          ],
          "name": "stdout"
        }
      ]
    },
    {
      "cell_type": "code",
      "metadata": {
        "id": "h-PM4FIGLRih",
        "colab_type": "code",
        "outputId": "6adfff03-8e55-4ee3-f53c-c28db1e99b4c",
        "colab": {
          "base_uri": "https://localhost:8080/",
          "height": 50
        }
      },
      "source": [
        "# noise value 0.2 - db size 10000\n",
        "db, pdbs = create_db_and_parallel_dbs(10000)\n",
        "with_noise_result, without_noise_result = query_varying_noise(db, noise=0.2)\n",
        "print(\"With Noise:\" + str(with_noise_result))\n",
        "print(\"Without Noise:\" + str(without_noise_result))"
      ],
      "execution_count": 40,
      "outputs": [
        {
          "output_type": "stream",
          "text": [
            "With Noise:tensor(0.4996)\n",
            "Without Noise:tensor(0.5040)\n"
          ],
          "name": "stdout"
        }
      ]
    },
    {
      "cell_type": "code",
      "metadata": {
        "id": "8tbE8pC0LfJs",
        "colab_type": "code",
        "outputId": "dd818a06-2aa5-411a-8605-a8cce5934933",
        "colab": {
          "base_uri": "https://localhost:8080/",
          "height": 50
        }
      },
      "source": [
        "# noise value 0.4 - db size 10000\n",
        "db, pdbs = create_db_and_parallel_dbs(10000)\n",
        "with_noise_result, without_noise_result = query_varying_noise(db, noise=0.4)\n",
        "print(\"With Noise:\" + str(with_noise_result))\n",
        "print(\"Without Noise:\" + str(without_noise_result))"
      ],
      "execution_count": 41,
      "outputs": [
        {
          "output_type": "stream",
          "text": [
            "With Noise:tensor(0.5103)\n",
            "Without Noise:tensor(0.4995)\n"
          ],
          "name": "stdout"
        }
      ]
    },
    {
      "cell_type": "code",
      "metadata": {
        "id": "xa_bcpTSLvMI",
        "colab_type": "code",
        "outputId": "9e176018-e04c-40d7-ddab-69ccabd094f3",
        "colab": {
          "base_uri": "https://localhost:8080/",
          "height": 50
        }
      },
      "source": [
        "# noise value 0.8 - db size 10000\n",
        "db, pdbs = create_db_and_parallel_dbs(10000)\n",
        "with_noise_result, without_noise_result = query_varying_noise(db, noise=0.8)\n",
        "print(\"With Noise:\" + str(with_noise_result))\n",
        "print(\"Without Noise:\" + str(without_noise_result))"
      ],
      "execution_count": 42,
      "outputs": [
        {
          "output_type": "stream",
          "text": [
            "With Noise:tensor(0.4690)\n",
            "Without Noise:tensor(0.4940)\n"
          ],
          "name": "stdout"
        }
      ]
    },
    {
      "cell_type": "markdown",
      "metadata": {
        "id": "Inj16UPKKiBh",
        "colab_type": "text"
      },
      "source": [
        "#Project: Create a Differentially Private Query\n",
        "Create sum() and mean() query functions which add the right amount of noise to the query output (Global Differential Privacy) such that it satisfies an epsilon constraint."
      ]
    },
    {
      "cell_type": "code",
      "metadata": {
        "id": "JJiTG5gjLi1E",
        "colab_type": "code",
        "colab": {}
      },
      "source": [
        "import numpy as np"
      ],
      "execution_count": 0,
      "outputs": []
    },
    {
      "cell_type": "code",
      "metadata": {
        "id": "ezv2f5tCLq4E",
        "colab_type": "code",
        "colab": {}
      },
      "source": [
        "# low epsilon budget\n",
        "epsilon = 0.0001"
      ],
      "execution_count": 0,
      "outputs": []
    },
    {
      "cell_type": "code",
      "metadata": {
        "id": "Cutpc4HxL53D",
        "colab_type": "code",
        "colab": {}
      },
      "source": [
        "# small data entries\n",
        "db, pdbs = create_db_and_parallel_dbs(100)\n",
        "\n",
        "def laplacian_M(db, query, sensitivity):\n",
        "    \n",
        "    beta = sensitivity / epsilon\n",
        "    noise = torch.tensor(np.random.laplace(0, beta, 1))\n",
        "    \n",
        "    return query(db) + noise"
      ],
      "execution_count": 0,
      "outputs": []
    },
    {
      "cell_type": "code",
      "metadata": {
        "id": "rTifSI3uNjws",
        "colab_type": "code",
        "colab": {
          "base_uri": "https://localhost:8080/",
          "height": 34
        },
        "outputId": "80f31690-7e00-4190-aabd-7b4def67c0f2"
      },
      "source": [
        "laplacian_M(db, query_sum, 1)"
      ],
      "execution_count": 60,
      "outputs": [
        {
          "output_type": "execute_result",
          "data": {
            "text/plain": [
              "tensor([372.2610], dtype=torch.float64)"
            ]
          },
          "metadata": {
            "tags": []
          },
          "execution_count": 60
        }
      ]
    },
    {
      "cell_type": "code",
      "metadata": {
        "id": "pHnOmDFHOFXA",
        "colab_type": "code",
        "colab": {
          "base_uri": "https://localhost:8080/",
          "height": 34
        },
        "outputId": "f6fa9896-bc3c-4d89-f9fa-0fc65ca2b505"
      },
      "source": [
        "laplacian_M(db, query_mean, 1/100)"
      ],
      "execution_count": 61,
      "outputs": [
        {
          "output_type": "execute_result",
          "data": {
            "text/plain": [
              "tensor([1.0933], dtype=torch.float64)"
            ]
          },
          "metadata": {
            "tags": []
          },
          "execution_count": 61
        }
      ]
    },
    {
      "cell_type": "code",
      "metadata": {
        "id": "a4P-oPY5QUVJ",
        "colab_type": "code",
        "colab": {}
      },
      "source": [
        "# medium epsilon budget\n",
        "epsilon = 0.005"
      ],
      "execution_count": 0,
      "outputs": []
    },
    {
      "cell_type": "code",
      "metadata": {
        "id": "VpCd7ExZQiqZ",
        "colab_type": "code",
        "colab": {
          "base_uri": "https://localhost:8080/",
          "height": 34
        },
        "outputId": "787f81e5-006d-43e0-b16b-c927d7e20d9c"
      },
      "source": [
        "laplacian_M(db, query_sum, 1)"
      ],
      "execution_count": 62,
      "outputs": [
        {
          "output_type": "execute_result",
          "data": {
            "text/plain": [
              "tensor([64.3783], dtype=torch.float64)"
            ]
          },
          "metadata": {
            "tags": []
          },
          "execution_count": 62
        }
      ]
    },
    {
      "cell_type": "code",
      "metadata": {
        "id": "WObx2oMKQ4U5",
        "colab_type": "code",
        "colab": {
          "base_uri": "https://localhost:8080/",
          "height": 34
        },
        "outputId": "21bcbe19-e678-463d-d39b-054f99b0e3fc"
      },
      "source": [
        "laplacian_M(db, query_mean, 1/100)"
      ],
      "execution_count": 64,
      "outputs": [
        {
          "output_type": "execute_result",
          "data": {
            "text/plain": [
              "tensor([-0.1626], dtype=torch.float64)"
            ]
          },
          "metadata": {
            "tags": []
          },
          "execution_count": 64
        }
      ]
    },
    {
      "cell_type": "code",
      "metadata": {
        "id": "t3g-_4R5Q-te",
        "colab_type": "code",
        "colab": {}
      },
      "source": [
        "# high epsilon budget \n",
        "epsilon = 0.5"
      ],
      "execution_count": 0,
      "outputs": []
    },
    {
      "cell_type": "code",
      "metadata": {
        "id": "xg3pz1cWRFBO",
        "colab_type": "code",
        "colab": {
          "base_uri": "https://localhost:8080/",
          "height": 34
        },
        "outputId": "db5066e4-027f-48cb-a887-a044a03ec78d"
      },
      "source": [
        "laplacian_M(db, query_sum, 1)"
      ],
      "execution_count": 66,
      "outputs": [
        {
          "output_type": "execute_result",
          "data": {
            "text/plain": [
              "tensor([54.6232], dtype=torch.float64)"
            ]
          },
          "metadata": {
            "tags": []
          },
          "execution_count": 66
        }
      ]
    },
    {
      "cell_type": "code",
      "metadata": {
        "id": "SQuOFn1iRKuw",
        "colab_type": "code",
        "colab": {
          "base_uri": "https://localhost:8080/",
          "height": 34
        },
        "outputId": "dcbb2e5d-8c87-44ea-f464-8019a3204f36"
      },
      "source": [
        "laplacian_M(db, query_mean, 1/100)"
      ],
      "execution_count": 67,
      "outputs": [
        {
          "output_type": "execute_result",
          "data": {
            "text/plain": [
              "tensor([0.4660], dtype=torch.float64)"
            ]
          },
          "metadata": {
            "tags": []
          },
          "execution_count": 67
        }
      ]
    },
    {
      "cell_type": "code",
      "metadata": {
        "id": "iA4hWW_DRM3d",
        "colab_type": "code",
        "colab": {}
      },
      "source": [
        "# mead data entries\n",
        "db, pdbs = create_db_and_parallel_dbs(1000)"
      ],
      "execution_count": 0,
      "outputs": []
    },
    {
      "cell_type": "code",
      "metadata": {
        "id": "9IgTxWvYRXZS",
        "colab_type": "code",
        "colab": {
          "base_uri": "https://localhost:8080/",
          "height": 34
        },
        "outputId": "35fc0251-ceb5-4e92-a86c-971972f231eb"
      },
      "source": [
        "laplacian_M(db, query_sum, 1)"
      ],
      "execution_count": 75,
      "outputs": [
        {
          "output_type": "execute_result",
          "data": {
            "text/plain": [
              "tensor([477.5692], dtype=torch.float64)"
            ]
          },
          "metadata": {
            "tags": []
          },
          "execution_count": 75
        }
      ]
    },
    {
      "cell_type": "code",
      "metadata": {
        "id": "Ro-HaKY7RkVd",
        "colab_type": "code",
        "colab": {
          "base_uri": "https://localhost:8080/",
          "height": 34
        },
        "outputId": "b0729b80-c40a-4840-a354-a252af846dbf"
      },
      "source": [
        "laplacian_M(db, query_mean, 1/1000)"
      ],
      "execution_count": 76,
      "outputs": [
        {
          "output_type": "execute_result",
          "data": {
            "text/plain": [
              "tensor([0.4777], dtype=torch.float64)"
            ]
          },
          "metadata": {
            "tags": []
          },
          "execution_count": 76
        }
      ]
    }
  ]
}