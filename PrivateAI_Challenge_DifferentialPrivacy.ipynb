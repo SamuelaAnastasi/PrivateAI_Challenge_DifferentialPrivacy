{
  "nbformat": 4,
  "nbformat_minor": 0,
  "metadata": {
    "colab": {
      "name": "PrivateAI_Challenge_DifferentialPrivacy.ipynb",
      "version": "0.3.2",
      "provenance": []
    },
    "kernelspec": {
      "name": "python3",
      "display_name": "Python 3"
    }
  },
  "cells": [
    {
      "cell_type": "markdown",
      "metadata": {
        "id": "CsImVwCTOLgF",
        "colab_type": "text"
      },
      "source": [
        "#Project 2: Generate Parallel Databases\n",
        "\n",
        "Create a list of every parallel database to the one currently contained in the \"db\" variable. Create a function which both:\n",
        "\n",
        "* creates the initial database (db) \n",
        "* creates all parallel databases"
      ]
    },
    {
      "cell_type": "code",
      "metadata": {
        "id": "O54Z7yHaSCLY",
        "colab_type": "code",
        "colab": {}
      },
      "source": [
        "import torch"
      ],
      "execution_count": 0,
      "outputs": []
    },
    {
      "cell_type": "code",
      "metadata": {
        "id": "FFMCcVdKLhBT",
        "colab_type": "code",
        "colab": {}
      },
      "source": [
        "def create_parallel_db(db, index):\n",
        "\n",
        "    return torch.cat((db[0:index], \n",
        "                      db[index+1:]))"
      ],
      "execution_count": 0,
      "outputs": []
    },
    {
      "cell_type": "code",
      "metadata": {
        "id": "6AXbb7ojR38w",
        "colab_type": "code",
        "outputId": "d2ac7931-6113-4107-ddd4-1a0e20c0e7a9",
        "colab": {
          "base_uri": "https://localhost:8080/",
          "height": 34
        }
      },
      "source": [
        "num_els = 5000\n",
        "db = torch.rand(num_els) > 0.5\n",
        "db"
      ],
      "execution_count": 5,
      "outputs": [
        {
          "output_type": "execute_result",
          "data": {
            "text/plain": [
              "tensor([1, 1, 1,  ..., 1, 0, 0], dtype=torch.uint8)"
            ]
          },
          "metadata": {
            "tags": []
          },
          "execution_count": 5
        }
      ]
    },
    {
      "cell_type": "code",
      "metadata": {
        "id": "H80r2z1xRtro",
        "colab_type": "code",
        "outputId": "186f46be-de8c-4e3b-9161-27cae38f5203",
        "colab": {
          "base_uri": "https://localhost:8080/",
          "height": 34
        }
      },
      "source": [
        "create_parallel_db(db, 47)"
      ],
      "execution_count": 6,
      "outputs": [
        {
          "output_type": "execute_result",
          "data": {
            "text/plain": [
              "tensor([1, 1, 1,  ..., 1, 0, 0], dtype=torch.uint8)"
            ]
          },
          "metadata": {
            "tags": []
          },
          "execution_count": 6
        }
      ]
    },
    {
      "cell_type": "code",
      "metadata": {
        "id": "dpnpSKEHSpLQ",
        "colab_type": "code",
        "colab": {}
      },
      "source": [
        "def create_parallel_dbs(db):\n",
        "\n",
        "    parallel_dbs = list()\n",
        "\n",
        "    for i in range(len(db)):\n",
        "        pdb = create_parallel_db(db, i)\n",
        "        parallel_dbs.append(pdb)\n",
        "    \n",
        "    return parallel_dbs"
      ],
      "execution_count": 0,
      "outputs": []
    },
    {
      "cell_type": "code",
      "metadata": {
        "id": "vB4VvxUfS0_n",
        "colab_type": "code",
        "colab": {}
      },
      "source": [
        "pdbs = create_parallel_dbs(db)"
      ],
      "execution_count": 0,
      "outputs": []
    },
    {
      "cell_type": "code",
      "metadata": {
        "id": "_nZ4LSXfTLre",
        "colab_type": "code",
        "colab": {}
      },
      "source": [
        "def create_db_and_parallel_dbs(num_els):\n",
        "    \n",
        "    db = torch.rand(num_els) > 0.5\n",
        "    pdbs = create_parallel_dbs(db)\n",
        "    \n",
        "    return db, pdbs"
      ],
      "execution_count": 0,
      "outputs": []
    },
    {
      "cell_type": "code",
      "metadata": {
        "id": "JG2hntsuTnN-",
        "colab_type": "code",
        "colab": {}
      },
      "source": [
        "db, pdbs = create_db_and_parallel_dbs(40)"
      ],
      "execution_count": 0,
      "outputs": []
    },
    {
      "cell_type": "markdown",
      "metadata": {
        "id": "sP1a_ZRKUACM",
        "colab_type": "text"
      },
      "source": [
        "## Evaluate The Differential Privacy of a Function\n",
        "Evaluate how much privacy is leaked by measuring the maximum amount the query changes when someone is removed (maximum over all possible people who could be removed). Measure the sensitivity of sum() function"
      ]
    },
    {
      "cell_type": "code",
      "metadata": {
        "id": "AxcbTdHNUw9u",
        "colab_type": "code",
        "colab": {}
      },
      "source": [
        "db, pdbs = create_db_and_parallel_dbs(5000)"
      ],
      "execution_count": 0,
      "outputs": []
    },
    {
      "cell_type": "code",
      "metadata": {
        "id": "ky8Ov5tLWmsp",
        "colab_type": "code",
        "colab": {}
      },
      "source": [
        "def query_sum(db):\n",
        "    return db.sum()"
      ],
      "execution_count": 0,
      "outputs": []
    },
    {
      "cell_type": "code",
      "metadata": {
        "id": "aPP4mfrSWxgI",
        "colab_type": "code",
        "colab": {}
      },
      "source": [
        "entire_db_result = query_sum(db)"
      ],
      "execution_count": 0,
      "outputs": []
    },
    {
      "cell_type": "code",
      "metadata": {
        "id": "wCRuuWluXH0X",
        "colab_type": "code",
        "colab": {}
      },
      "source": [
        "query_sensitivity = 0\n",
        "for pdb in pdbs:\n",
        "    pdb_result = query_sum(pdb)\n",
        "    \n",
        "    db_difference = torch.abs(pdb_result - entire_db_result)\n",
        "    \n",
        "    if(db_difference > query_sensitivity):\n",
        "        query_sensitivity = db_difference"
      ],
      "execution_count": 0,
      "outputs": []
    },
    {
      "cell_type": "code",
      "metadata": {
        "id": "e232UR8_XrLu",
        "colab_type": "code",
        "outputId": "9352cae9-25e5-4e4f-a4d4-fb872206b83e",
        "colab": {
          "base_uri": "https://localhost:8080/",
          "height": 34
        }
      },
      "source": [
        "query_sensitivity"
      ],
      "execution_count": 15,
      "outputs": [
        {
          "output_type": "execute_result",
          "data": {
            "text/plain": [
              "tensor(1)"
            ]
          },
          "metadata": {
            "tags": []
          },
          "execution_count": 15
        }
      ]
    },
    {
      "cell_type": "markdown",
      "metadata": {
        "id": "FfTvKEPUbOsv",
        "colab_type": "text"
      },
      "source": [
        "#Project 3 - Evaluate the Privacy of a Function\n",
        "Implement function to compute the \"sensitivity\"of the mean() function we use for the query when measuring the difference between each parallel db's query result and the query result for the entire database (max value)."
      ]
    },
    {
      "cell_type": "code",
      "metadata": {
        "id": "_TW6VEQtc_RQ",
        "colab_type": "code",
        "colab": {}
      },
      "source": [
        "def query_mean(db):\n",
        "    return db.float().mean()"
      ],
      "execution_count": 0,
      "outputs": []
    },
    {
      "cell_type": "code",
      "metadata": {
        "id": "l0v0o-BxbRi0",
        "colab_type": "code",
        "colab": {}
      },
      "source": [
        "def f_sensitivity(f, n_els=1000):\n",
        "\n",
        "    db, pdbs = create_db_and_parallel_dbs(n_els)\n",
        "    \n",
        "    entire_db_result = f(db)\n",
        "    \n",
        "    max_difference = 0\n",
        "    for pdb in pdbs:\n",
        "        pdb_result = f(pdb)\n",
        "\n",
        "        db_difference = torch.abs(pdb_result - entire_db_result)\n",
        "\n",
        "        if(db_difference > max_difference):\n",
        "            max_difference = db_difference\n",
        "            \n",
        "    return max_difference"
      ],
      "execution_count": 0,
      "outputs": []
    },
    {
      "cell_type": "code",
      "metadata": {
        "id": "PZW9VbANeFS3",
        "colab_type": "code",
        "outputId": "6cb6b4e6-6b42-4167-c68f-13795d0b0c48",
        "colab": {
          "base_uri": "https://localhost:8080/",
          "height": 34
        }
      },
      "source": [
        "f_sensitivity(query_mean)"
      ],
      "execution_count": 18,
      "outputs": [
        {
          "output_type": "execute_result",
          "data": {
            "text/plain": [
              "tensor(0.0005)"
            ]
          },
          "metadata": {
            "tags": []
          },
          "execution_count": 18
        }
      ]
    },
    {
      "cell_type": "code",
      "metadata": {
        "id": "jQD3y8h2efNX",
        "colab_type": "code",
        "colab": {}
      },
      "source": [
        "db, pdbs = create_db_and_parallel_dbs(20)"
      ],
      "execution_count": 0,
      "outputs": []
    },
    {
      "cell_type": "code",
      "metadata": {
        "id": "QRbrJUQ0el7m",
        "colab_type": "code",
        "outputId": "2b6017cb-9da2-4eb2-fbdb-390c4f64a980",
        "colab": {
          "base_uri": "https://localhost:8080/",
          "height": 50
        }
      },
      "source": [
        "db"
      ],
      "execution_count": 20,
      "outputs": [
        {
          "output_type": "execute_result",
          "data": {
            "text/plain": [
              "tensor([0, 1, 1, 0, 1, 0, 0, 0, 0, 0, 1, 1, 0, 0, 1, 0, 1, 1, 1, 0],\n",
              "       dtype=torch.uint8)"
            ]
          },
          "metadata": {
            "tags": []
          },
          "execution_count": 20
        }
      ]
    },
    {
      "cell_type": "markdown",
      "metadata": {
        "id": "fTRZb3dafsxY",
        "colab_type": "text"
      },
      "source": [
        "#Project: Calculate L1 Sensitivity For Threshold\n",
        "Define function which calculates the sensitivty for a \"threshold\"  by computing the sum over the databases and return whether that sum is greater than a certain threshold"
      ]
    },
    {
      "cell_type": "code",
      "metadata": {
        "id": "BkvU_SragsZE",
        "colab_type": "code",
        "colab": {}
      },
      "source": [
        "def query_sum_threshold(db, threshold=5):\n",
        "    return (db.sum() > threshold).float()"
      ],
      "execution_count": 0,
      "outputs": []
    },
    {
      "cell_type": "code",
      "metadata": {
        "id": "fGR6eZA9hDI8",
        "colab_type": "code",
        "outputId": "a5bd2cbf-5dbd-4fec-8da2-b149c6c1bbda",
        "colab": {
          "base_uri": "https://localhost:8080/",
          "height": 185
        }
      },
      "source": [
        "for i in range(10):\n",
        "    sens_f = f_sensitivity(query_sum_threshold, n_els=10)\n",
        "    print(sens_f)"
      ],
      "execution_count": 22,
      "outputs": [
        {
          "output_type": "stream",
          "text": [
            "0\n",
            "0\n",
            "tensor(1.)\n",
            "0\n",
            "0\n",
            "0\n",
            "0\n",
            "0\n",
            "tensor(1.)\n",
            "0\n"
          ],
          "name": "stdout"
        }
      ]
    },
    {
      "cell_type": "markdown",
      "metadata": {
        "id": "SFpCYsel1z2E",
        "colab_type": "text"
      },
      "source": [
        "#Project: Perform a Differencing Attack on Row 10\n",
        "Create a database and then two different sum queries to expose the value of the person represented by row 10 in the database"
      ]
    },
    {
      "cell_type": "code",
      "metadata": {
        "id": "I9eeTDKR2K-F",
        "colab_type": "code",
        "colab": {}
      },
      "source": [
        "db, _ = create_db_and_parallel_dbs(100)"
      ],
      "execution_count": 0,
      "outputs": []
    },
    {
      "cell_type": "code",
      "metadata": {
        "id": "hMd5r6S42g66",
        "colab_type": "code",
        "colab": {}
      },
      "source": [
        "pdb = create_parallel_db(db, index=10)"
      ],
      "execution_count": 0,
      "outputs": []
    },
    {
      "cell_type": "code",
      "metadata": {
        "id": "VG5vUmR624bJ",
        "colab_type": "code",
        "outputId": "cd8449b5-c9da-4c34-ef32-7a4f51106893",
        "colab": {
          "base_uri": "https://localhost:8080/",
          "height": 34
        }
      },
      "source": [
        "db[10]"
      ],
      "execution_count": 25,
      "outputs": [
        {
          "output_type": "execute_result",
          "data": {
            "text/plain": [
              "tensor(0, dtype=torch.uint8)"
            ]
          },
          "metadata": {
            "tags": []
          },
          "execution_count": 25
        }
      ]
    },
    {
      "cell_type": "code",
      "metadata": {
        "id": "GDcSTvbq3w54",
        "colab_type": "code",
        "outputId": "62ca5507-b3db-475f-8a3e-4dc49cff9415",
        "colab": {
          "base_uri": "https://localhost:8080/",
          "height": 34
        }
      },
      "source": [
        "sum(db)"
      ],
      "execution_count": 26,
      "outputs": [
        {
          "output_type": "execute_result",
          "data": {
            "text/plain": [
              "tensor(51, dtype=torch.uint8)"
            ]
          },
          "metadata": {
            "tags": []
          },
          "execution_count": 26
        }
      ]
    },
    {
      "cell_type": "code",
      "metadata": {
        "id": "X0zf23on34kg",
        "colab_type": "code",
        "outputId": "704755d2-d925-4db8-ba73-6510c68707ba",
        "colab": {
          "base_uri": "https://localhost:8080/",
          "height": 34
        }
      },
      "source": [
        "# Differencing attack using sum()\n",
        "\n",
        "sum(db) - sum(pdb)"
      ],
      "execution_count": 27,
      "outputs": [
        {
          "output_type": "execute_result",
          "data": {
            "text/plain": [
              "tensor(0, dtype=torch.uint8)"
            ]
          },
          "metadata": {
            "tags": []
          },
          "execution_count": 27
        }
      ]
    },
    {
      "cell_type": "code",
      "metadata": {
        "id": "2t5iY-ZH4G8I",
        "colab_type": "code",
        "outputId": "52bcdbf8-0b0a-4368-fc92-8e49b1b8968d",
        "colab": {
          "base_uri": "https://localhost:8080/",
          "height": 34
        }
      },
      "source": [
        "# Differencing attack using mean()\n",
        "\n",
        "(sum(db).float() / len(db)) -  (sum(pdb).float() / len(pdb))"
      ],
      "execution_count": 28,
      "outputs": [
        {
          "output_type": "execute_result",
          "data": {
            "text/plain": [
              "tensor(-0.0052)"
            ]
          },
          "metadata": {
            "tags": []
          },
          "execution_count": 28
        }
      ]
    },
    {
      "cell_type": "code",
      "metadata": {
        "id": "zyMF5gV35GBf",
        "colab_type": "code",
        "outputId": "6b6b59d0-134f-4cc1-fabc-4e3808220d1b",
        "colab": {
          "base_uri": "https://localhost:8080/",
          "height": 34
        }
      },
      "source": [
        "# Differencing attack using sum() and threshold\n",
        "\n",
        "(sum(db).float() > 49) - (sum(pdb).float()  > 49)"
      ],
      "execution_count": 29,
      "outputs": [
        {
          "output_type": "execute_result",
          "data": {
            "text/plain": [
              "tensor(0, dtype=torch.uint8)"
            ]
          },
          "metadata": {
            "tags": []
          },
          "execution_count": 29
        }
      ]
    },
    {
      "cell_type": "markdown",
      "metadata": {
        "id": "bO_-JhcMx1zP",
        "colab_type": "text"
      },
      "source": [
        "#Project: Local Differential Privacy\n",
        "Create function that will flip a virtual coin twice and randomize data points based on the result. Call this function with incemental databases."
      ]
    },
    {
      "cell_type": "code",
      "metadata": {
        "id": "scGbXgb5xzIT",
        "colab_type": "code",
        "colab": {}
      },
      "source": [
        "def query_local_noise(db):\n",
        "  \n",
        "  without_noise_result = torch.mean(db.float())\n",
        "    \n",
        "  first_coin_flip = (torch.rand(len(db)) < 0.5).float()\n",
        "    \n",
        "  second_coin_flip = (torch.rand(len(db)) < 0.5).float()\n",
        "\n",
        "  randomized_db = db.float() * first_coin_flip + (1 - first_coin_flip) * second_coin_flip\n",
        "\n",
        "  with_noise_result = torch.mean(randomized_db.float()) * 2 - 0.5\n",
        "    \n",
        "  return with_noise_result, without_noise_result\n",
        "  "
      ],
      "execution_count": 0,
      "outputs": []
    },
    {
      "cell_type": "code",
      "metadata": {
        "id": "oQOGb0244Dcg",
        "colab_type": "code",
        "colab": {
          "base_uri": "https://localhost:8080/",
          "height": 50
        },
        "outputId": "7296b1ec-2474-459c-906b-7767fefebd09"
      },
      "source": [
        "# db size 10\n",
        "db, pdbs = create_db_and_parallel_dbs(10)\n",
        "with_noise_result, without_noise_result = query_local_noise(db)\n",
        "print(\"With Noise:\" + str(with_noise_result))\n",
        "print(\"Without Noise:\" + str(without_noise_result))"
      ],
      "execution_count": 39,
      "outputs": [
        {
          "output_type": "stream",
          "text": [
            "With Noise:tensor(0.3000)\n",
            "Without Noise:tensor(0.6000)\n"
          ],
          "name": "stdout"
        }
      ]
    },
    {
      "cell_type": "code",
      "metadata": {
        "id": "XXXTcBt-4pLh",
        "colab_type": "code",
        "colab": {
          "base_uri": "https://localhost:8080/",
          "height": 50
        },
        "outputId": "cc58ae82-ae71-43ad-eeb4-cbcd179ccc6b"
      },
      "source": [
        "# db size 100\n",
        "db, pdbs = create_db_and_parallel_dbs(100)\n",
        "with_noise_result, without_noise_result = query_local_noise(db)\n",
        "print(\"With Noise:\" + str(with_noise_result))\n",
        "print(\"Without Noise:\" + str(without_noise_result))"
      ],
      "execution_count": 41,
      "outputs": [
        {
          "output_type": "stream",
          "text": [
            "With Noise:tensor(0.4800)\n",
            "Without Noise:tensor(0.6100)\n"
          ],
          "name": "stdout"
        }
      ]
    },
    {
      "cell_type": "code",
      "metadata": {
        "id": "uNHWhHud6EB2",
        "colab_type": "code",
        "colab": {
          "base_uri": "https://localhost:8080/",
          "height": 50
        },
        "outputId": "dccfe833-622e-4a48-d018-1ab8fcb4d92c"
      },
      "source": [
        "# db size 1000\n",
        "db, pdbs = create_db_and_parallel_dbs(1000)\n",
        "with_noise_result, without_noise_result = query_local_noise(db)\n",
        "print(\"With Noise:\" + str(with_noise_result))\n",
        "print(\"Without Noise:\" + str(without_noise_result))"
      ],
      "execution_count": 43,
      "outputs": [
        {
          "output_type": "stream",
          "text": [
            "With Noise:tensor(0.4940)\n",
            "Without Noise:tensor(0.4730)\n"
          ],
          "name": "stdout"
        }
      ]
    },
    {
      "cell_type": "code",
      "metadata": {
        "id": "983jMbvX6Kdt",
        "colab_type": "code",
        "colab": {
          "base_uri": "https://localhost:8080/",
          "height": 50
        },
        "outputId": "77d0745c-19db-4b8e-9e1f-b8006e93d71e"
      },
      "source": [
        "# db size 10000\n",
        "db, pdbs = create_db_and_parallel_dbs(10000)\n",
        "with_noise_result, without_noise_result = query_local_noise(db)\n",
        "print(\"With Noise:\" + str(with_noise_result))\n",
        "print(\"Without Noise:\" + str(without_noise_result))"
      ],
      "execution_count": 44,
      "outputs": [
        {
          "output_type": "stream",
          "text": [
            "With Noise:tensor(0.4812)\n",
            "Without Noise:tensor(0.4925)\n"
          ],
          "name": "stdout"
        }
      ]
    },
    {
      "cell_type": "markdown",
      "metadata": {
        "id": "H5g1dT3qGN-P",
        "colab_type": "text"
      },
      "source": [
        "#Project: Varying Amounts of Noise\n",
        "Define function which takes noise arg to allow for varying amounts of randomness to be added to database i.e.The first coin flip will have varying probabilities of being 1 or 0. Experiment with different values of noise"
      ]
    },
    {
      "cell_type": "code",
      "metadata": {
        "id": "zarwlaMuGNDt",
        "colab_type": "code",
        "colab": {}
      },
      "source": [
        "def query_varying_noise(db, noise=0.2):\n",
        "    \n",
        "    without_noise_result = torch.mean(db.float())\n",
        "\n",
        "    first_coin_flip = (torch.rand(len(db)) < noise).float()\n",
        "    \n",
        "    second_coin_flip = (torch.rand(len(db)) < 0.5).float()\n",
        "\n",
        "    randomized_db = db.float() * first_coin_flip + (1 - first_coin_flip) * second_coin_flip\n",
        "\n",
        "    skewed_result = randomized_db.float().mean()\n",
        "\n",
        "    with_noise_result = ((skewed_result / noise) - 0.5) * noise / (1 - noise)\n",
        "\n",
        "    return with_noise_result, without_noise_result"
      ],
      "execution_count": 0,
      "outputs": []
    },
    {
      "cell_type": "code",
      "metadata": {
        "id": "V1Gzd8JkKJgr",
        "colab_type": "code",
        "colab": {
          "base_uri": "https://localhost:8080/",
          "height": 50
        },
        "outputId": "91ac3b81-3a85-4e72-bb18-4635e467e6bc"
      },
      "source": [
        "# noise value 0.1 - db size 100\n",
        "db, pdbs = create_db_and_parallel_dbs(100)\n",
        "with_noise_result, without_noise_result = query_varying_noise(db, noise=0.1)\n",
        "print(\"With Noise:\" + str(with_noise_result))\n",
        "print(\"Without Noise:\" + str(without_noise_result))"
      ],
      "execution_count": 46,
      "outputs": [
        {
          "output_type": "stream",
          "text": [
            "With Noise:tensor(0.5333)\n",
            "Without Noise:tensor(0.5000)\n"
          ],
          "name": "stdout"
        }
      ]
    },
    {
      "cell_type": "code",
      "metadata": {
        "id": "dchgIAYOK21i",
        "colab_type": "code",
        "colab": {
          "base_uri": "https://localhost:8080/",
          "height": 50
        },
        "outputId": "f6f6ee18-5e25-4f84-ef93-3673896b8463"
      },
      "source": [
        "# noise value 0.2 - db size 100\n",
        "db, pdbs = create_db_and_parallel_dbs(100)\n",
        "with_noise_result, without_noise_result = query_varying_noise(db, noise=0.2)\n",
        "print(\"With Noise:\" + str(with_noise_result))\n",
        "print(\"Without Noise:\" + str(without_noise_result))"
      ],
      "execution_count": 47,
      "outputs": [
        {
          "output_type": "stream",
          "text": [
            "With Noise:tensor(0.5625)\n",
            "Without Noise:tensor(0.5500)\n"
          ],
          "name": "stdout"
        }
      ]
    },
    {
      "cell_type": "code",
      "metadata": {
        "id": "SWiOnIESK9F0",
        "colab_type": "code",
        "colab": {
          "base_uri": "https://localhost:8080/",
          "height": 50
        },
        "outputId": "4e860832-4ccf-4ac7-9c7d-4f5d98508d06"
      },
      "source": [
        "# noise value 0.4 - db size 100\n",
        "db, pdbs = create_db_and_parallel_dbs(100)\n",
        "with_noise_result, without_noise_result = query_varying_noise(db, noise=0.4)\n",
        "print(\"With Noise:\" + str(with_noise_result))\n",
        "print(\"Without Noise:\" + str(without_noise_result))"
      ],
      "execution_count": 48,
      "outputs": [
        {
          "output_type": "stream",
          "text": [
            "With Noise:tensor(0.5167)\n",
            "Without Noise:tensor(0.4900)\n"
          ],
          "name": "stdout"
        }
      ]
    },
    {
      "cell_type": "code",
      "metadata": {
        "id": "CuAn7SNhLG9g",
        "colab_type": "code",
        "colab": {
          "base_uri": "https://localhost:8080/",
          "height": 50
        },
        "outputId": "7481ecca-5bdd-4191-ce22-44e036de5c96"
      },
      "source": [
        "# noise value 0.8 - db size 100\n",
        "db, pdbs = create_db_and_parallel_dbs(100)\n",
        "with_noise_result, without_noise_result = query_varying_noise(db, noise=0.8)\n",
        "print(\"With Noise:\" + str(with_noise_result))\n",
        "print(\"Without Noise:\" + str(without_noise_result))"
      ],
      "execution_count": 49,
      "outputs": [
        {
          "output_type": "stream",
          "text": [
            "With Noise:tensor(0.8000)\n",
            "Without Noise:tensor(0.5100)\n"
          ],
          "name": "stdout"
        }
      ]
    },
    {
      "cell_type": "code",
      "metadata": {
        "id": "7WzPQHWoLjb8",
        "colab_type": "code",
        "colab": {
          "base_uri": "https://localhost:8080/",
          "height": 50
        },
        "outputId": "8e58baef-c19e-47bd-8636-9ab7631a8d93"
      },
      "source": [
        "# noise value 0.1 - db size 10000\n",
        "db, pdbs = create_db_and_parallel_dbs(10000)\n",
        "with_noise_result, without_noise_result = query_varying_noise(db, noise=0.1)\n",
        "print(\"With Noise:\" + str(with_noise_result))\n",
        "print(\"Without Noise:\" + str(without_noise_result))"
      ],
      "execution_count": 51,
      "outputs": [
        {
          "output_type": "stream",
          "text": [
            "With Noise:tensor(0.4954)\n",
            "Without Noise:tensor(0.4926)\n"
          ],
          "name": "stdout"
        }
      ]
    },
    {
      "cell_type": "code",
      "metadata": {
        "id": "h-PM4FIGLRih",
        "colab_type": "code",
        "colab": {
          "base_uri": "https://localhost:8080/",
          "height": 50
        },
        "outputId": "b80bbe1d-469f-4903-9466-1fd0624cb477"
      },
      "source": [
        "# noise value 0.2 - db size 10000\n",
        "db, pdbs = create_db_and_parallel_dbs(10000)\n",
        "with_noise_result, without_noise_result = query_varying_noise(db, noise=0.2)\n",
        "print(\"With Noise:\" + str(with_noise_result))\n",
        "print(\"Without Noise:\" + str(without_noise_result))"
      ],
      "execution_count": 50,
      "outputs": [
        {
          "output_type": "stream",
          "text": [
            "With Noise:tensor(0.4970)\n",
            "Without Noise:tensor(0.5029)\n"
          ],
          "name": "stdout"
        }
      ]
    },
    {
      "cell_type": "code",
      "metadata": {
        "id": "8tbE8pC0LfJs",
        "colab_type": "code",
        "colab": {
          "base_uri": "https://localhost:8080/",
          "height": 50
        },
        "outputId": "c4d9897a-9978-44e0-d4bf-d86d8a5c3f25"
      },
      "source": [
        "# noise value 0.4 - db size 10000\n",
        "db, pdbs = create_db_and_parallel_dbs(10000)\n",
        "with_noise_result, without_noise_result = query_varying_noise(db, noise=0.4)\n",
        "print(\"With Noise:\" + str(with_noise_result))\n",
        "print(\"Without Noise:\" + str(without_noise_result))"
      ],
      "execution_count": 52,
      "outputs": [
        {
          "output_type": "stream",
          "text": [
            "With Noise:tensor(0.4843)\n",
            "Without Noise:tensor(0.4989)\n"
          ],
          "name": "stdout"
        }
      ]
    },
    {
      "cell_type": "code",
      "metadata": {
        "id": "xa_bcpTSLvMI",
        "colab_type": "code",
        "colab": {
          "base_uri": "https://localhost:8080/",
          "height": 50
        },
        "outputId": "1eeb7094-bfe0-4f5e-9c6a-d8cc9ab7e114"
      },
      "source": [
        "# noise value 0.8 - db size 10000\n",
        "db, pdbs = create_db_and_parallel_dbs(10000)\n",
        "with_noise_result, without_noise_result = query_varying_noise(db, noise=0.8)\n",
        "print(\"With Noise:\" + str(with_noise_result))\n",
        "print(\"Without Noise:\" + str(without_noise_result))"
      ],
      "execution_count": 53,
      "outputs": [
        {
          "output_type": "stream",
          "text": [
            "With Noise:tensor(0.5065)\n",
            "Without Noise:tensor(0.5062)\n"
          ],
          "name": "stdout"
        }
      ]
    }
  ]
}