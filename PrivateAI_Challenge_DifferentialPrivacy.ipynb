{
  "nbformat": 4,
  "nbformat_minor": 0,
  "metadata": {
    "colab": {
      "name": "PrivateAI_Challenge_DifferentialPrivacy.ipynb",
      "version": "0.3.2",
      "provenance": []
    },
    "kernelspec": {
      "name": "python3",
      "display_name": "Python 3"
    }
  },
  "cells": [
    {
      "cell_type": "markdown",
      "metadata": {
        "id": "CsImVwCTOLgF",
        "colab_type": "text"
      },
      "source": [
        "#Project 2: Generate Parallel Databases\n",
        "\n",
        "Create a list of every parallel database to the one currently contained in the \"db\" variable. Create a function which both:\n",
        "\n",
        "* creates the initial database (db) \n",
        "* creates all parallel databases"
      ]
    },
    {
      "cell_type": "code",
      "metadata": {
        "id": "O54Z7yHaSCLY",
        "colab_type": "code",
        "colab": {}
      },
      "source": [
        "import torch"
      ],
      "execution_count": 0,
      "outputs": []
    },
    {
      "cell_type": "code",
      "metadata": {
        "id": "FFMCcVdKLhBT",
        "colab_type": "code",
        "colab": {}
      },
      "source": [
        "def create_parallel_db(db, index):\n",
        "\n",
        "    return torch.cat((db[0:index], \n",
        "                      db[index+1:]))"
      ],
      "execution_count": 0,
      "outputs": []
    },
    {
      "cell_type": "code",
      "metadata": {
        "id": "6AXbb7ojR38w",
        "colab_type": "code",
        "colab": {
          "base_uri": "https://localhost:8080/",
          "height": 34
        },
        "outputId": "c4fd190e-8e86-417b-da01-4368e2c82762"
      },
      "source": [
        "num_els = 5000\n",
        "db = torch.rand(num_els) > 0.5\n",
        "db"
      ],
      "execution_count": 4,
      "outputs": [
        {
          "output_type": "execute_result",
          "data": {
            "text/plain": [
              "tensor([1, 1, 0,  ..., 0, 1, 0], dtype=torch.uint8)"
            ]
          },
          "metadata": {
            "tags": []
          },
          "execution_count": 4
        }
      ]
    },
    {
      "cell_type": "code",
      "metadata": {
        "id": "H80r2z1xRtro",
        "colab_type": "code",
        "colab": {
          "base_uri": "https://localhost:8080/",
          "height": 34
        },
        "outputId": "ad674009-010f-4412-b728-2d2a925551fd"
      },
      "source": [
        "create_parallel_db(db, 47)"
      ],
      "execution_count": 5,
      "outputs": [
        {
          "output_type": "execute_result",
          "data": {
            "text/plain": [
              "tensor([1, 1, 0,  ..., 0, 1, 0], dtype=torch.uint8)"
            ]
          },
          "metadata": {
            "tags": []
          },
          "execution_count": 5
        }
      ]
    },
    {
      "cell_type": "code",
      "metadata": {
        "id": "dpnpSKEHSpLQ",
        "colab_type": "code",
        "colab": {}
      },
      "source": [
        "def create_parallel_dbs(db):\n",
        "\n",
        "    parallel_dbs = list()\n",
        "\n",
        "    for i in range(len(db)):\n",
        "        pdb = create_parallel_db(db, i)\n",
        "        parallel_dbs.append(pdb)\n",
        "    \n",
        "    return parallel_dbs"
      ],
      "execution_count": 0,
      "outputs": []
    },
    {
      "cell_type": "code",
      "metadata": {
        "id": "vB4VvxUfS0_n",
        "colab_type": "code",
        "colab": {}
      },
      "source": [
        "pdbs = create_parallel_dbs(db)"
      ],
      "execution_count": 0,
      "outputs": []
    },
    {
      "cell_type": "code",
      "metadata": {
        "id": "_nZ4LSXfTLre",
        "colab_type": "code",
        "colab": {}
      },
      "source": [
        "def create_db_and_parallel_dbs(num_els):\n",
        "    \n",
        "    db = torch.rand(num_els) > 0.5\n",
        "    pdbs = create_parallel_dbs(db)\n",
        "    \n",
        "    return db, pdbs"
      ],
      "execution_count": 0,
      "outputs": []
    },
    {
      "cell_type": "code",
      "metadata": {
        "id": "JG2hntsuTnN-",
        "colab_type": "code",
        "colab": {}
      },
      "source": [
        "db, pdbs = create_db_and_parallel_dbs(40)"
      ],
      "execution_count": 0,
      "outputs": []
    },
    {
      "cell_type": "markdown",
      "metadata": {
        "id": "sP1a_ZRKUACM",
        "colab_type": "text"
      },
      "source": [
        "## Evaluate The Differential Privacy of a Function\n",
        "Evaluate how much privacy is leaked by measuring the maximum amount the query changes when someone is removed (maximum over all possible people who could be removed). Measure the sensitivity of sum() function"
      ]
    },
    {
      "cell_type": "code",
      "metadata": {
        "id": "AxcbTdHNUw9u",
        "colab_type": "code",
        "colab": {}
      },
      "source": [
        "db, pdbs = create_db_and_parallel_dbs(5000)"
      ],
      "execution_count": 0,
      "outputs": []
    },
    {
      "cell_type": "code",
      "metadata": {
        "id": "ky8Ov5tLWmsp",
        "colab_type": "code",
        "colab": {}
      },
      "source": [
        "def query_sum(db):\n",
        "    return db.sum()"
      ],
      "execution_count": 0,
      "outputs": []
    },
    {
      "cell_type": "code",
      "metadata": {
        "id": "aPP4mfrSWxgI",
        "colab_type": "code",
        "colab": {}
      },
      "source": [
        "entire_db_result = query_sum(db)"
      ],
      "execution_count": 0,
      "outputs": []
    },
    {
      "cell_type": "code",
      "metadata": {
        "id": "wCRuuWluXH0X",
        "colab_type": "code",
        "colab": {}
      },
      "source": [
        "query_sensitivity = 0\n",
        "for pdb in pdbs:\n",
        "    pdb_result = query_sum(pdb)\n",
        "    \n",
        "    db_difference = torch.abs(pdb_result - entire_db_result)\n",
        "    \n",
        "    if(db_difference > query_sensitivity):\n",
        "        query_sensitivity = db_difference"
      ],
      "execution_count": 0,
      "outputs": []
    },
    {
      "cell_type": "code",
      "metadata": {
        "id": "e232UR8_XrLu",
        "colab_type": "code",
        "colab": {
          "base_uri": "https://localhost:8080/",
          "height": 34
        },
        "outputId": "0a57291b-eb33-4326-80e7-4730981f4158"
      },
      "source": [
        "query_sensitivity"
      ],
      "execution_count": 20,
      "outputs": [
        {
          "output_type": "execute_result",
          "data": {
            "text/plain": [
              "tensor(1)"
            ]
          },
          "metadata": {
            "tags": []
          },
          "execution_count": 20
        }
      ]
    },
    {
      "cell_type": "markdown",
      "metadata": {
        "id": "FfTvKEPUbOsv",
        "colab_type": "text"
      },
      "source": [
        "#Project 3 - Evaluate the Privacy of a Function\n",
        "Implement function to compute the \"sensitivity\"of the mean() function we use for the query when measuring the difference between each parallel db's query result and the query result for the entire database (max value)."
      ]
    },
    {
      "cell_type": "code",
      "metadata": {
        "id": "_TW6VEQtc_RQ",
        "colab_type": "code",
        "colab": {}
      },
      "source": [
        "def query_mean(db):\n",
        "    return db.float().mean()"
      ],
      "execution_count": 0,
      "outputs": []
    },
    {
      "cell_type": "code",
      "metadata": {
        "id": "l0v0o-BxbRi0",
        "colab_type": "code",
        "colab": {}
      },
      "source": [
        "def f_sensitivity(f, n_els=1000):\n",
        "\n",
        "    db, pdbs = create_db_and_parallel_dbs(n_els)\n",
        "    \n",
        "    entire_db_result = f(db)\n",
        "    \n",
        "    max_difference = 0\n",
        "    for pdb in pdbs:\n",
        "        pdb_result = f(pdb)\n",
        "\n",
        "        db_difference = torch.abs(pdb_result - entire_db_result)\n",
        "\n",
        "        if(db_difference > max_difference):\n",
        "            max_difference = db_difference\n",
        "            \n",
        "    return max_difference"
      ],
      "execution_count": 0,
      "outputs": []
    },
    {
      "cell_type": "code",
      "metadata": {
        "id": "PZW9VbANeFS3",
        "colab_type": "code",
        "colab": {
          "base_uri": "https://localhost:8080/",
          "height": 34
        },
        "outputId": "870e02ac-1935-4e37-dc4c-06eba233750c"
      },
      "source": [
        "f_sensitivity(query_mean)"
      ],
      "execution_count": 33,
      "outputs": [
        {
          "output_type": "execute_result",
          "data": {
            "text/plain": [
              "tensor(0.0005)"
            ]
          },
          "metadata": {
            "tags": []
          },
          "execution_count": 33
        }
      ]
    },
    {
      "cell_type": "code",
      "metadata": {
        "id": "jQD3y8h2efNX",
        "colab_type": "code",
        "colab": {}
      },
      "source": [
        "db, pdbs = create_db_and_parallel_dbs(20)"
      ],
      "execution_count": 0,
      "outputs": []
    },
    {
      "cell_type": "code",
      "metadata": {
        "id": "QRbrJUQ0el7m",
        "colab_type": "code",
        "colab": {
          "base_uri": "https://localhost:8080/",
          "height": 50
        },
        "outputId": "d998fb1d-321c-449e-d529-8a523493241e"
      },
      "source": [
        "db"
      ],
      "execution_count": 35,
      "outputs": [
        {
          "output_type": "execute_result",
          "data": {
            "text/plain": [
              "tensor([1, 0, 1, 1, 0, 0, 0, 1, 0, 1, 1, 1, 0, 0, 1, 0, 0, 0, 1, 1],\n",
              "       dtype=torch.uint8)"
            ]
          },
          "metadata": {
            "tags": []
          },
          "execution_count": 35
        }
      ]
    },
    {
      "cell_type": "markdown",
      "metadata": {
        "id": "fTRZb3dafsxY",
        "colab_type": "text"
      },
      "source": [
        "#Project: Calculate L1 Sensitivity For Threshold\n",
        "Define function which calculates the sensitivty for a \"threshold\"  by computing the sum over the databases and return whether that sum is greater than a certain threshold"
      ]
    },
    {
      "cell_type": "code",
      "metadata": {
        "id": "BkvU_SragsZE",
        "colab_type": "code",
        "colab": {}
      },
      "source": [
        "def query_sum_threshold(db, threshold=5):\n",
        "    return (db.sum() > threshold).float()"
      ],
      "execution_count": 0,
      "outputs": []
    },
    {
      "cell_type": "code",
      "metadata": {
        "id": "fGR6eZA9hDI8",
        "colab_type": "code",
        "colab": {
          "base_uri": "https://localhost:8080/",
          "height": 185
        },
        "outputId": "1a9692cd-c87c-4a68-fbf8-f35f3c1192f6"
      },
      "source": [
        "for i in range(10):\n",
        "    sens_f = f_sensitivity(query_sum_threshold, n_els=10)\n",
        "    print(sens_f)"
      ],
      "execution_count": 37,
      "outputs": [
        {
          "output_type": "stream",
          "text": [
            "tensor(1.)\n",
            "0\n",
            "0\n",
            "0\n",
            "0\n",
            "tensor(1.)\n",
            "0\n",
            "tensor(1.)\n",
            "0\n",
            "0\n"
          ],
          "name": "stdout"
        }
      ]
    },
    {
      "cell_type": "markdown",
      "metadata": {
        "id": "SFpCYsel1z2E",
        "colab_type": "text"
      },
      "source": [
        "#Project: Perform a Differencing Attack on Row 10\n",
        "Create a database and then two different sum queries to expose the value of the person represented by row 10 in the database"
      ]
    },
    {
      "cell_type": "code",
      "metadata": {
        "id": "I9eeTDKR2K-F",
        "colab_type": "code",
        "colab": {}
      },
      "source": [
        "db, _ = create_db_and_parallel_dbs(100)"
      ],
      "execution_count": 0,
      "outputs": []
    },
    {
      "cell_type": "code",
      "metadata": {
        "id": "hMd5r6S42g66",
        "colab_type": "code",
        "colab": {}
      },
      "source": [
        "pdb = create_parallel_db(db, index=10)"
      ],
      "execution_count": 0,
      "outputs": []
    },
    {
      "cell_type": "code",
      "metadata": {
        "id": "VG5vUmR624bJ",
        "colab_type": "code",
        "colab": {
          "base_uri": "https://localhost:8080/",
          "height": 34
        },
        "outputId": "7540f9bc-cdca-4330-8b6f-89d1d98c5a8a"
      },
      "source": [
        "db[10]"
      ],
      "execution_count": 44,
      "outputs": [
        {
          "output_type": "execute_result",
          "data": {
            "text/plain": [
              "tensor(1, dtype=torch.uint8)"
            ]
          },
          "metadata": {
            "tags": []
          },
          "execution_count": 44
        }
      ]
    },
    {
      "cell_type": "code",
      "metadata": {
        "id": "GDcSTvbq3w54",
        "colab_type": "code",
        "colab": {
          "base_uri": "https://localhost:8080/",
          "height": 34
        },
        "outputId": "9214288f-ea58-4eb8-8d12-79889337afa0"
      },
      "source": [
        "sum(db)"
      ],
      "execution_count": 45,
      "outputs": [
        {
          "output_type": "execute_result",
          "data": {
            "text/plain": [
              "tensor(51, dtype=torch.uint8)"
            ]
          },
          "metadata": {
            "tags": []
          },
          "execution_count": 45
        }
      ]
    },
    {
      "cell_type": "code",
      "metadata": {
        "id": "X0zf23on34kg",
        "colab_type": "code",
        "colab": {
          "base_uri": "https://localhost:8080/",
          "height": 34
        },
        "outputId": "afe9dbd6-c481-4b6f-899e-d2b55bcea581"
      },
      "source": [
        "# Differencing attack using sum()\n",
        "\n",
        "sum(db) - sum(pdb)"
      ],
      "execution_count": 47,
      "outputs": [
        {
          "output_type": "execute_result",
          "data": {
            "text/plain": [
              "tensor(1, dtype=torch.uint8)"
            ]
          },
          "metadata": {
            "tags": []
          },
          "execution_count": 47
        }
      ]
    },
    {
      "cell_type": "code",
      "metadata": {
        "id": "2t5iY-ZH4G8I",
        "colab_type": "code",
        "colab": {
          "base_uri": "https://localhost:8080/",
          "height": 34
        },
        "outputId": "bfb08fcb-133b-4543-b68c-e7e513d3dc67"
      },
      "source": [
        "# Differencing attack using mean()\n",
        "\n",
        "(sum(db).float() / len(db)) -  (sum(pdb).float() / len(pdb))"
      ],
      "execution_count": 48,
      "outputs": [
        {
          "output_type": "execute_result",
          "data": {
            "text/plain": [
              "tensor(0.0049)"
            ]
          },
          "metadata": {
            "tags": []
          },
          "execution_count": 48
        }
      ]
    },
    {
      "cell_type": "code",
      "metadata": {
        "id": "zyMF5gV35GBf",
        "colab_type": "code",
        "colab": {
          "base_uri": "https://localhost:8080/",
          "height": 34
        },
        "outputId": "d27cf906-b8ed-4fd9-b05c-f07abb5dfe92"
      },
      "source": [
        "# Differencing attack using sum() nad threshold\n",
        "\n",
        "(sum(db).float() > 49) - (sum(pdb).float()  > 49)"
      ],
      "execution_count": 51,
      "outputs": [
        {
          "output_type": "execute_result",
          "data": {
            "text/plain": [
              "tensor(0, dtype=torch.uint8)"
            ]
          },
          "metadata": {
            "tags": []
          },
          "execution_count": 51
        }
      ]
    }
  ]
}